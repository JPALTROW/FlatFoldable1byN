{
 "cells": [
  {
   "cell_type": "code",
   "execution_count": 56,
   "id": "347eee5b",
   "metadata": {},
   "outputs": [],
   "source": [
    "def genLabels(n):\n",
    "    labels = []\n",
    "    for i in range(2*n):\n",
    "        labels.append(i)\n",
    "    return labels\n",
    "\n",
    "def genEdges2s(n):\n",
    "    poset = []\n",
    "    for i in range(2*n-1):\n",
    "        if (i%4 == 0):\n",
    "            poset.append([i, i+1])\n",
    "        if (i%4 == 1):\n",
    "            if (i+2 < 2*n):\n",
    "                poset.append([i, i+2])\n",
    "        if (i%4 == 2):\n",
    "            poset.append([i+1, i])\n",
    "        if (i%4 == 3):\n",
    "            if (i+2 < 2*n):\n",
    "                poset.append([i+2, i])\n",
    "    return poset\n",
    "\n",
    "def genPoset2s(n):\n",
    "    return Poset((genLabels(n), genEdges2s(n)))"
   ]
  },
  {
   "cell_type": "code",
   "execution_count": 68,
   "id": "5866a5a1",
   "metadata": {},
   "outputs": [],
   "source": [
    "import itertools\n",
    "import numpy as np\n",
    "\n",
    "n = 5\n",
    "\n",
    "adj = {}\n",
    "for face in range(2 * n):\n",
    "    adj[face] = []\n",
    "    if face - 2 >= 0:\n",
    "        adj[face].append(face-2)\n",
    "    if face + 2 < n:\n",
    "        adj[face].append(face+2)\n",
    "    if face % 2 == 0:\n",
    "        adj[face].append(face+1)\n",
    "    if face % 2 == 1:\n",
    "        adj[face].append(face-1)\n",
    "\n",
    "bottom_edges = [(i, i+1) for i in range(0, 2 * n, 2)]\n",
    "left_edges = [(i, i+2) for i in range(0, 2 * n - 2, 4)] + [(i, i+2) for i in range(1, 2 * n - 2, 4)]\n",
    "right_edges = [(i, i+2) for i in range(2, 2 * n - 1, 4)] + [(i, i+2) for i in range(3, 2 * n - 2, 4)]\n",
    "\n",
    "positive_faces = list(range(0, 2*n, 4)) + list(range(3, 2*n, 4))\n",
    "negative_faces = list(range(2, 2*n, 4)) + list(range(1, 2*n, 4))\n",
    "\n",
    "# check for crossing violations\n",
    "def check_crossings(edges, ordering):\n",
    "    for e1, e2 in itertools.combinations(edges, 2):\n",
    "        b1 = min(ordering[e1[0]], ordering[e1[1]])\n",
    "        t1 = max(ordering[e1[0]], ordering[e1[1]])\n",
    "        b2 = min(ordering[e2[0]], ordering[e2[1]])\n",
    "        t2 = max(ordering[e2[0]], ordering[e2[1]])\n",
    "\n",
    "        if b1 < b2 < t1 < t2 or b2 < b1 < t2 < t1:\n",
    "            # print(\"CROSSING\", e1, e2, b1, t1, b2, t2)\n",
    "            return False\n",
    "    return True\n",
    "\n",
    "# Check that MV is respected: faces with +1 parity (same as the top left) need to be below faces that they share a\n",
    "# valley fold with, but faces with -1 parity need to satisfy the opposite conditions\n",
    "def checkMV(faces, parity, assignment, ordering):\n",
    "    for face in faces:\n",
    "        for adj_ in adj[face]:\n",
    "            edge = (min(adj_, face), max(adj_, face))\n",
    "            # bunch of signs stuff lol\n",
    "            if np.sign(ordering[face] - ordering[adj_]) != parity * assignment[edge]:\n",
    "                # print(\"MV ERROR\", face, adj)\n",
    "                return False\n",
    "    return True\n",
    "\n",
    "def verify(assignment, ordering):\n",
    "    if not checkMV(positive_faces, +1, assignment, ordering) or not checkMV(negative_faces, -1, assignment, ordering):\n",
    "        return False\n",
    "\n",
    "    if not check_crossings(bottom_edges, ordering) or not check_crossings(left_edges, ordering) or not check_crossings(right_edges, ordering):\n",
    "        return False\n",
    "\n",
    "    return True\n",
    "\n",
    "def convertToMV(assign):\n",
    "    edge_assign = {}\n",
    "    edge_assign[(0,1)] = -1\n",
    "    for i in range(len(assign)):\n",
    "        top_left = 2*i\n",
    "        base = edge_assign[(top_left, top_left+1)]\n",
    "        if assign[i] == 1:\n",
    "            edge_assign[(top_left, top_left+2)] = -1*base\n",
    "            edge_assign[(top_left+1, top_left+3)] = -1*base\n",
    "            edge_assign[(top_left+2, top_left+3)] = -1*base\n",
    "        if assign[i] == 2:\n",
    "            edge_assign[(top_left, top_left+2)] = base\n",
    "            edge_assign[(top_left+1, top_left+3)] = -1*base\n",
    "            edge_assign[(top_left+2, top_left+3)] = base\n",
    "        if assign[i] == 3:\n",
    "            edge_assign[(top_left, top_left+2)] = base\n",
    "            edge_assign[(top_left+1, top_left+3)] = base\n",
    "            edge_assign[(top_left+2, top_left+3)] = -1*base\n",
    "        if assign[i] == 4:\n",
    "            edge_assign[(top_left, top_left+2)] = -1*base\n",
    "            edge_assign[(top_left+1, top_left+3)] = base\n",
    "            edge_assign[(top_left+2, top_left+3)] = base\n",
    "    return edge_assign"
   ]
  },
  {
   "cell_type": "code",
   "execution_count": 91,
   "id": "504e5a08",
   "metadata": {},
   "outputs": [],
   "source": [
    "def countFolds2s(n):\n",
    "    assignment = convertToMV([2]*n)\n",
    "    count = 0\n",
    "    # validWays = []\n",
    "    P = genPoset2s(n)\n",
    "    print(P.cover_relations())\n",
    "    print(assignment)\n",
    "    for i in P.linear_extension().parent():\n",
    "        if(verify(assignment, np.argsort(i))):\n",
    "            # validWays.append(i)\n",
    "            count+= 1\n",
    "    return count"
   ]
  },
  {
   "cell_type": "code",
   "execution_count": 92,
   "id": "10afbdcb",
   "metadata": {},
   "outputs": [
    {
     "name": "stdout",
     "output_type": "stream",
     "text": [
      "[[4, 5], [5, 7], [5, 3], [7, 6], [0, 1], [1, 3], [3, 2]]\n",
      "{(0, 1): -1, (0, 2): -1, (1, 3): 1, (2, 3): -1, (2, 4): -1, (3, 5): 1, (4, 5): -1, (4, 6): -1, (5, 7): 1, (6, 7): -1, (6, 8): -1, (7, 9): 1, (8, 9): -1}\n"
     ]
    },
    {
     "ename": "IndexError",
     "evalue": "index 8 is out of bounds for axis 0 with size 8",
     "output_type": "error",
     "traceback": [
      "\u001b[0;31m---------------------------------------------------------------------------\u001b[0m",
      "\u001b[0;31mIndexError\u001b[0m                                Traceback (most recent call last)",
      "\u001b[0;32m/tmp/ipykernel_344998/1012622130.py\u001b[0m in \u001b[0;36m<module>\u001b[0;34m\u001b[0m\n\u001b[0;32m----> 1\u001b[0;31m \u001b[0mprint\u001b[0m\u001b[0;34m(\u001b[0m\u001b[0mcountFolds2s\u001b[0m\u001b[0;34m(\u001b[0m\u001b[0mInteger\u001b[0m\u001b[0;34m(\u001b[0m\u001b[0;36m4\u001b[0m\u001b[0;34m)\u001b[0m\u001b[0;34m)\u001b[0m\u001b[0;34m)\u001b[0m\u001b[0;34m\u001b[0m\u001b[0;34m\u001b[0m\u001b[0m\n\u001b[0m",
      "\u001b[0;32m/tmp/ipykernel_344998/3252508706.py\u001b[0m in \u001b[0;36mcountFolds2s\u001b[0;34m(n)\u001b[0m\n\u001b[1;32m      7\u001b[0m     \u001b[0mprint\u001b[0m\u001b[0;34m(\u001b[0m\u001b[0massignment\u001b[0m\u001b[0;34m)\u001b[0m\u001b[0;34m\u001b[0m\u001b[0;34m\u001b[0m\u001b[0m\n\u001b[1;32m      8\u001b[0m     \u001b[0;32mfor\u001b[0m \u001b[0mi\u001b[0m \u001b[0;32min\u001b[0m \u001b[0mP\u001b[0m\u001b[0;34m.\u001b[0m\u001b[0mlinear_extension\u001b[0m\u001b[0;34m(\u001b[0m\u001b[0;34m)\u001b[0m\u001b[0;34m.\u001b[0m\u001b[0mparent\u001b[0m\u001b[0;34m(\u001b[0m\u001b[0;34m)\u001b[0m\u001b[0;34m:\u001b[0m\u001b[0;34m\u001b[0m\u001b[0;34m\u001b[0m\u001b[0m\n\u001b[0;32m----> 9\u001b[0;31m         \u001b[0;32mif\u001b[0m\u001b[0;34m(\u001b[0m\u001b[0mverify\u001b[0m\u001b[0;34m(\u001b[0m\u001b[0massignment\u001b[0m\u001b[0;34m,\u001b[0m \u001b[0mnp\u001b[0m\u001b[0;34m.\u001b[0m\u001b[0margsort\u001b[0m\u001b[0;34m(\u001b[0m\u001b[0mi\u001b[0m\u001b[0;34m)\u001b[0m\u001b[0;34m)\u001b[0m\u001b[0;34m)\u001b[0m\u001b[0;34m:\u001b[0m\u001b[0;34m\u001b[0m\u001b[0;34m\u001b[0m\u001b[0m\n\u001b[0m\u001b[1;32m     10\u001b[0m             \u001b[0;31m# validWays.append(i)\u001b[0m\u001b[0;34m\u001b[0m\u001b[0;34m\u001b[0m\u001b[0m\n\u001b[1;32m     11\u001b[0m             \u001b[0mcount\u001b[0m\u001b[0;34m+=\u001b[0m \u001b[0mInteger\u001b[0m\u001b[0;34m(\u001b[0m\u001b[0;36m1\u001b[0m\u001b[0;34m)\u001b[0m\u001b[0;34m\u001b[0m\u001b[0;34m\u001b[0m\u001b[0m\n",
      "\u001b[0;32m/tmp/ipykernel_344998/3902941721.py\u001b[0m in \u001b[0;36mverify\u001b[0;34m(assignment, ordering)\u001b[0m\n\u001b[1;32m     49\u001b[0m \u001b[0;34m\u001b[0m\u001b[0m\n\u001b[1;32m     50\u001b[0m \u001b[0;32mdef\u001b[0m \u001b[0mverify\u001b[0m\u001b[0;34m(\u001b[0m\u001b[0massignment\u001b[0m\u001b[0;34m,\u001b[0m \u001b[0mordering\u001b[0m\u001b[0;34m)\u001b[0m\u001b[0;34m:\u001b[0m\u001b[0;34m\u001b[0m\u001b[0;34m\u001b[0m\u001b[0m\n\u001b[0;32m---> 51\u001b[0;31m     \u001b[0;32mif\u001b[0m \u001b[0;32mnot\u001b[0m \u001b[0mcheckMV\u001b[0m\u001b[0;34m(\u001b[0m\u001b[0mpositive_faces\u001b[0m\u001b[0;34m,\u001b[0m \u001b[0;34m+\u001b[0m\u001b[0mInteger\u001b[0m\u001b[0;34m(\u001b[0m\u001b[0;36m1\u001b[0m\u001b[0;34m)\u001b[0m\u001b[0;34m,\u001b[0m \u001b[0massignment\u001b[0m\u001b[0;34m,\u001b[0m \u001b[0mordering\u001b[0m\u001b[0;34m)\u001b[0m \u001b[0;32mor\u001b[0m \u001b[0;32mnot\u001b[0m \u001b[0mcheckMV\u001b[0m\u001b[0;34m(\u001b[0m\u001b[0mnegative_faces\u001b[0m\u001b[0;34m,\u001b[0m \u001b[0;34m-\u001b[0m\u001b[0mInteger\u001b[0m\u001b[0;34m(\u001b[0m\u001b[0;36m1\u001b[0m\u001b[0;34m)\u001b[0m\u001b[0;34m,\u001b[0m \u001b[0massignment\u001b[0m\u001b[0;34m,\u001b[0m \u001b[0mordering\u001b[0m\u001b[0;34m)\u001b[0m\u001b[0;34m:\u001b[0m\u001b[0;34m\u001b[0m\u001b[0;34m\u001b[0m\u001b[0m\n\u001b[0m\u001b[1;32m     52\u001b[0m         \u001b[0;32mreturn\u001b[0m \u001b[0;32mFalse\u001b[0m\u001b[0;34m\u001b[0m\u001b[0;34m\u001b[0m\u001b[0m\n\u001b[1;32m     53\u001b[0m \u001b[0;34m\u001b[0m\u001b[0m\n",
      "\u001b[0;32m/tmp/ipykernel_344998/3902941721.py\u001b[0m in \u001b[0;36mcheckMV\u001b[0;34m(faces, parity, assignment, ordering)\u001b[0m\n\u001b[1;32m     43\u001b[0m             \u001b[0medge\u001b[0m \u001b[0;34m=\u001b[0m \u001b[0;34m(\u001b[0m\u001b[0mmin\u001b[0m\u001b[0;34m(\u001b[0m\u001b[0madj_\u001b[0m\u001b[0;34m,\u001b[0m \u001b[0mface\u001b[0m\u001b[0;34m)\u001b[0m\u001b[0;34m,\u001b[0m \u001b[0mmax\u001b[0m\u001b[0;34m(\u001b[0m\u001b[0madj_\u001b[0m\u001b[0;34m,\u001b[0m \u001b[0mface\u001b[0m\u001b[0;34m)\u001b[0m\u001b[0;34m)\u001b[0m\u001b[0;34m\u001b[0m\u001b[0;34m\u001b[0m\u001b[0m\n\u001b[1;32m     44\u001b[0m             \u001b[0;31m# bunch of signs stuff lol\u001b[0m\u001b[0;34m\u001b[0m\u001b[0;34m\u001b[0m\u001b[0m\n\u001b[0;32m---> 45\u001b[0;31m             \u001b[0;32mif\u001b[0m \u001b[0mnp\u001b[0m\u001b[0;34m.\u001b[0m\u001b[0msign\u001b[0m\u001b[0;34m(\u001b[0m\u001b[0mordering\u001b[0m\u001b[0;34m[\u001b[0m\u001b[0mface\u001b[0m\u001b[0;34m]\u001b[0m \u001b[0;34m-\u001b[0m \u001b[0mordering\u001b[0m\u001b[0;34m[\u001b[0m\u001b[0madj_\u001b[0m\u001b[0;34m]\u001b[0m\u001b[0;34m)\u001b[0m \u001b[0;34m!=\u001b[0m \u001b[0mparity\u001b[0m \u001b[0;34m*\u001b[0m \u001b[0massignment\u001b[0m\u001b[0;34m[\u001b[0m\u001b[0medge\u001b[0m\u001b[0;34m]\u001b[0m\u001b[0;34m:\u001b[0m\u001b[0;34m\u001b[0m\u001b[0;34m\u001b[0m\u001b[0m\n\u001b[0m\u001b[1;32m     46\u001b[0m                 \u001b[0;31m# print(\"MV ERROR\", face, adj)\u001b[0m\u001b[0;34m\u001b[0m\u001b[0;34m\u001b[0m\u001b[0m\n\u001b[1;32m     47\u001b[0m                 \u001b[0;32mreturn\u001b[0m \u001b[0;32mFalse\u001b[0m\u001b[0;34m\u001b[0m\u001b[0;34m\u001b[0m\u001b[0m\n",
      "\u001b[0;31mIndexError\u001b[0m: index 8 is out of bounds for axis 0 with size 8"
     ]
    }
   ],
   "source": [
    "print(countFolds2s(4))"
   ]
  },
  {
   "cell_type": "code",
   "execution_count": null,
   "id": "92776b0b",
   "metadata": {},
   "outputs": [],
   "source": []
  }
 ],
 "metadata": {
  "kernelspec": {
   "display_name": "SageMath 9.5",
   "language": "sage",
   "name": "sagemath"
  },
  "language_info": {
   "codemirror_mode": {
    "name": "ipython",
    "version": 3
   },
   "file_extension": ".py",
   "mimetype": "text/x-python",
   "name": "python",
   "nbconvert_exporter": "python",
   "pygments_lexer": "ipython3",
   "version": "3.10.12"
  }
 },
 "nbformat": 4,
 "nbformat_minor": 5
}
