{
 "cells": [
  {
   "cell_type": "code",
   "execution_count": 52,
   "id": "9c99ca7e",
   "metadata": {},
   "outputs": [],
   "source": [
    "bads = [[], [], [], [], [], [[2,3,1,2], [2,3,1,4], [4,3,1,2], [4,3,1,4]]]"
   ]
  },
  {
   "cell_type": "code",
   "execution_count": 95,
   "id": "5189fada",
   "metadata": {},
   "outputs": [],
   "source": [
    "n = 8"
   ]
  },
  {
   "cell_type": "code",
   "execution_count": 89,
   "id": "d53747bb",
   "metadata": {},
   "outputs": [],
   "source": [
    "'''Code from other file'''\n",
    "\n",
    "import itertools\n",
    "import numpy as np\n",
    "\n",
    "def get_bottom_edges(n):\n",
    "    return [(i, i+1) for i in range(0, 2 * n, 2)]\n",
    "\n",
    "def get_left_edges(n):\n",
    "    return [(i, i+2) for i in range(0, 2 * n - 2, 4)] + [(i, i+2) for i in range(1, 2 * n - 2, 4)]\n",
    "\n",
    "def get_right_edges(n):\n",
    "    return [(i, i+2) for i in range(2, 2 * n - 2, 4)] + [(i, i+2) for i in range(3, 2 * n - 2, 4)]\n",
    "\n",
    "def get_positive_faces(n):\n",
    "    return list(range(0, 2*n, 4)) + list(range(3, 2*n, 4))\n",
    "\n",
    "def get_negative_faces(n):\n",
    "    return list(range(2, 2*n, 4)) + list(range(1, 2*n, 4))\n",
    "\n",
    "\n",
    "adj = {}\n",
    "for face in range(2 * n):\n",
    "    adj[face] = []\n",
    "    if face - 2 >= 0:\n",
    "        adj[face].append(face-2)\n",
    "    if face + 2 < n:\n",
    "        adj[face].append(face+2)\n",
    "    if face % 2 == 0:\n",
    "        adj[face].append(face+1)\n",
    "    if face % 2 == 1:\n",
    "        adj[face].append(face-1)\n",
    "\n",
    "bottom_edges = get_bottom_edges(n)\n",
    "left_edges = get_left_edges(n)\n",
    "right_edges = get_right_edges(n)\n",
    "positive_faces = get_positive_faces(n)\n",
    "negative_faces = get_negative_faces(n)\n",
    "\n",
    "# check for crossing violations\n",
    "def check_crossings(edges, ordering):\n",
    "    for e1, e2 in itertools.combinations(edges, 2):\n",
    "        b1 = min(ordering[e1[0]], ordering[e1[1]])\n",
    "        t1 = max(ordering[e1[0]], ordering[e1[1]])\n",
    "        b2 = min(ordering[e2[0]], ordering[e2[1]])\n",
    "        t2 = max(ordering[e2[0]], ordering[e2[1]])\n",
    "\n",
    "        if b1 < b2 < t1 < t2 or b2 < b1 < t2 < t1:\n",
    "            # print(\"CROSSING\", e1, e2, b1, t1, b2, t2)\n",
    "            return False\n",
    "    return True\n",
    "    \n",
    "def check_all_crossings(assignment, ordering):\n",
    "    if not check_crossings(bottom_edges, ordering) or not check_crossings(left_edges, ordering) or not check_crossings(right_edges, ordering):\n",
    "        return False\n",
    "\n",
    "    return True\n",
    "\n",
    "def convertToMV(assign):\n",
    "    edge_assign = {}\n",
    "    edge_assign[(0,1)] = -1\n",
    "    for i in range(len(assign)):\n",
    "        top_left = 2*i\n",
    "        base = edge_assign[(top_left, top_left+1)]\n",
    "        if assign[i] == 1:\n",
    "            edge_assign[(top_left, top_left+2)] = -1*base\n",
    "            edge_assign[(top_left+1, top_left+3)] = -1*base\n",
    "            edge_assign[(top_left+2, top_left+3)] = -1*base\n",
    "        if assign[i] == 2:\n",
    "            edge_assign[(top_left, top_left+2)] = base\n",
    "            edge_assign[(top_left+1, top_left+3)] = -1*base\n",
    "            edge_assign[(top_left+2, top_left+3)] = base\n",
    "        if assign[i] == 3:\n",
    "            edge_assign[(top_left, top_left+2)] = base\n",
    "            edge_assign[(top_left+1, top_left+3)] = base\n",
    "            edge_assign[(top_left+2, top_left+3)] = -1*base\n",
    "        if assign[i] == 4:\n",
    "            edge_assign[(top_left, top_left+2)] = -1*base\n",
    "            edge_assign[(top_left+1, top_left+3)] = base\n",
    "            edge_assign[(top_left+2, top_left+3)] = base\n",
    "    return edge_assign\n",
    "\n",
    "def get_poset(assignment):\n",
    "    poset = []\n",
    "    # Loops over edges and adds them (using parity of edge and of face location)\n",
    "    for edge in assignment:\n",
    "        if (edge[0]%4 == 0 or edge[0]%4 == 3):\n",
    "            if (assignment[edge] == -1):\n",
    "                poset.append([edge[0], edge[1]])\n",
    "            else:\n",
    "                poset.append([edge[1], edge[0]])\n",
    "        else:\n",
    "            if (assignment[edge] == 1):\n",
    "                poset.append([edge[0], edge[1]])\n",
    "            else:\n",
    "                poset.append([edge[1], edge[0]])\n",
    "    \n",
    "    return Poset((list(range(2 * n)), poset))\n",
    "\n",
    "## Iterate over all possible linear extensions of the poset and check edges\n",
    "\n",
    "def count(assignment):\n",
    "    count = 0\n",
    "    P = get_poset(assignment)\n",
    "    for i in P.linear_extension().parent():\n",
    "        if(check_all_crossings(assignment, np.argsort(i))):\n",
    "            # print(i)\n",
    "            count+= 1\n",
    "    return count\n",
    "\n",
    "def check(assignment):\n",
    "    P = get_poset(assignment)\n",
    "    for i in P.linear_extension().parent():\n",
    "        if(check_all_crossings(assignment, np.argsort(i))):\n",
    "#             print(i)\n",
    "            return 1\n",
    "    return 0"
   ]
  },
  {
   "cell_type": "code",
   "execution_count": 78,
   "id": "d8e02b35",
   "metadata": {},
   "outputs": [],
   "source": [
    "def genBadPoss():\n",
    "    possibilities = [[]]\n",
    "    new_possibilities = []\n",
    "    for i in range(n-1):\n",
    "        if (i == 0) or (i == n-2):\n",
    "            for j in possibilities:\n",
    "                temp = j.copy()\n",
    "                temp.append(2)\n",
    "                new_possibilities.append(temp)\n",
    "                temp = j.copy()\n",
    "                temp.append(4)\n",
    "                new_possibilities.append(temp)\n",
    "        elif (i == 1) or (i == n-3):\n",
    "            for j in possibilities:\n",
    "                temp = j.copy()\n",
    "                temp.append(1)\n",
    "                new_possibilities.append(temp)\n",
    "                temp = j.copy()\n",
    "                temp.append(3)\n",
    "                new_possibilities.append(temp)\n",
    "        else:\n",
    "            for j in possibilities:\n",
    "                for k in range(4):\n",
    "                    temp = j.copy()\n",
    "                    temp.append(k+1)\n",
    "                    new_possibilities.append(temp)\n",
    "        possibilities = new_possibilities.copy()\n",
    "        new_possibilities = []\n",
    "    return possibilities\n",
    "    \n",
    "def checkPrev(line):\n",
    "    for i in range(5, n):\n",
    "        for j in bads[i]:\n",
    "            for k in range(n-i+1):\n",
    "                if (j == line[k:k+i-1]):\n",
    "                    return False\n",
    "    return True\n",
    "\n",
    "def weedPoss(poss):\n",
    "    goodPoss = []\n",
    "    for i in poss:\n",
    "        if checkPrev(i):\n",
    "            goodPoss.append(i)\n",
    "    return goodPoss"
   ]
  },
  {
   "cell_type": "code",
   "execution_count": null,
   "id": "2d800b44",
   "metadata": {},
   "outputs": [],
   "source": [
    "newbads = []\n",
    "\n",
    "for i in weedPoss(genBadPoss()):\n",
    "    if (check(convertToMV(i)) == 0):\n",
    "        newbads.append[i]"
   ]
  },
  {
   "cell_type": "code",
   "execution_count": 82,
   "id": "65ace7a0",
   "metadata": {},
   "outputs": [
    {
     "name": "stdout",
     "output_type": "stream",
     "text": [
      "False\n"
     ]
    }
   ],
   "source": [
    "print(checkPrev([2,3,1,2,1,2]))"
   ]
  },
  {
   "cell_type": "code",
   "execution_count": 81,
   "id": "1876935a",
   "metadata": {},
   "outputs": [
    {
     "name": "stdout",
     "output_type": "stream",
     "text": [
      "[[], [], [], [], [], [[2, 3, 1, 2], [2, 3, 1, 4], [4, 3, 1, 2], [4, 3, 1, 4]], [[2, 1, 3, 1, 2], [2, 1, 3, 1, 4], [2, 3, 1, 3, 2], [2, 3, 1, 3, 4], [2, 3, 4, 1, 2], [4, 1, 3, 1, 2], [4, 1, 3, 1, 4], [4, 3, 1, 3, 2], [4, 3, 1, 3, 4], [4, 3, 2, 1, 4]]]\n"
     ]
    }
   ],
   "source": [
    "print(bads)"
   ]
  },
  {
   "cell_type": "code",
   "execution_count": 87,
   "id": "70ff58c2",
   "metadata": {},
   "outputs": [
    {
     "data": {
      "text/plain": [
       "0"
      ]
     },
     "execution_count": 87,
     "metadata": {},
     "output_type": "execute_result"
    }
   ],
   "source": [
    "check(convertToMV([2, 1, 1, 3, 1, 2]))"
   ]
  },
  {
   "cell_type": "code",
   "execution_count": 91,
   "id": "8acda6fc",
   "metadata": {},
   "outputs": [],
   "source": [
    "l = [[2, 1, 1, 3, 1, 2],\n",
    "[2, 1, 1, 3, 1, 4],\n",
    "[2, 1, 3, 1, 3, 2],\n",
    "[2, 1, 3, 1, 3, 4],\n",
    "[2, 1, 3, 2, 1, 4],\n",
    "[2, 1, 3, 4, 1, 2],\n",
    "[2, 3, 1, 1, 1, 2],\n",
    "[2, 3, 1, 1, 1, 4],\n",
    "[2, 3, 1, 3, 1, 2],\n",
    "[2, 3, 1, 3, 1, 4],\n",
    "[2, 3, 1, 3, 3, 2],\n",
    "[2, 3, 1, 3, 3, 4],\n",
    "[2, 3, 3, 3, 1, 2],\n",
    "[2, 3, 3, 3, 1, 4],\n",
    "[2, 3, 4, 1, 3, 2],\n",
    "[2, 3, 4, 1, 3, 4],\n",
    "[2, 3, 4, 2, 1, 4],\n",
    "[2, 3, 4, 4, 1, 2],\n",
    "[4, 1, 1, 3, 1, 2],\n",
    "[4, 1, 1, 3, 1, 4],\n",
    "[4, 1, 3, 1, 3, 2],\n",
    "[4, 1, 3, 1, 3, 4],\n",
    "[4, 1, 3, 2, 1, 4],\n",
    "[4, 1, 3, 4, 1, 2],\n",
    "[4, 3, 1, 1, 1, 2],\n",
    "[4, 3, 1, 1, 1, 4],\n",
    "[4, 3, 1, 3, 1, 2],\n",
    "[4, 3, 1, 3, 1, 4],\n",
    "[4, 3, 1, 3, 3, 2],\n",
    "[4, 3, 1, 3, 3, 4],\n",
    "[4, 3, 2, 1, 3, 2],\n",
    "[4, 3, 2, 1, 3, 4],\n",
    "[4, 3, 2, 2, 1, 4],\n",
    "[4, 3, 2, 4, 1, 2],\n",
    "[4, 3, 3, 3, 1, 2],\n",
    "[4, 3, 3, 3, 1, 4]]"
   ]
  },
  {
   "cell_type": "code",
   "execution_count": 92,
   "id": "2a54c773",
   "metadata": {},
   "outputs": [
    {
     "data": {
      "text/plain": [
       "36"
      ]
     },
     "execution_count": 92,
     "metadata": {},
     "output_type": "execute_result"
    }
   ],
   "source": [
    "len(l)"
   ]
  },
  {
   "cell_type": "code",
   "execution_count": 93,
   "id": "dcf5285c",
   "metadata": {},
   "outputs": [],
   "source": [
    "bads.append(l)"
   ]
  },
  {
   "cell_type": "code",
   "execution_count": 94,
   "id": "6fc29f25",
   "metadata": {},
   "outputs": [
    {
     "name": "stdout",
     "output_type": "stream",
     "text": [
      "[[], [], [], [], [], [[2, 3, 1, 2], [2, 3, 1, 4], [4, 3, 1, 2], [4, 3, 1, 4]], [[2, 1, 3, 1, 2], [2, 1, 3, 1, 4], [2, 3, 1, 3, 2], [2, 3, 1, 3, 4], [2, 3, 4, 1, 2], [4, 1, 3, 1, 2], [4, 1, 3, 1, 4], [4, 3, 1, 3, 2], [4, 3, 1, 3, 4], [4, 3, 2, 1, 4]], [[2, 1, 1, 3, 1, 2], [2, 1, 1, 3, 1, 4], [2, 1, 3, 1, 3, 2], [2, 1, 3, 1, 3, 4], [2, 1, 3, 2, 1, 4], [2, 1, 3, 4, 1, 2], [2, 3, 1, 1, 1, 2], [2, 3, 1, 1, 1, 4], [2, 3, 1, 3, 1, 2], [2, 3, 1, 3, 1, 4], [2, 3, 1, 3, 3, 2], [2, 3, 1, 3, 3, 4], [2, 3, 3, 3, 1, 2], [2, 3, 3, 3, 1, 4], [2, 3, 4, 1, 3, 2], [2, 3, 4, 1, 3, 4], [2, 3, 4, 2, 1, 4], [2, 3, 4, 4, 1, 2], [4, 1, 1, 3, 1, 2], [4, 1, 1, 3, 1, 4], [4, 1, 3, 1, 3, 2], [4, 1, 3, 1, 3, 4], [4, 1, 3, 2, 1, 4], [4, 1, 3, 4, 1, 2], [4, 3, 1, 1, 1, 2], [4, 3, 1, 1, 1, 4], [4, 3, 1, 3, 1, 2], [4, 3, 1, 3, 1, 4], [4, 3, 1, 3, 3, 2], [4, 3, 1, 3, 3, 4], [4, 3, 2, 1, 3, 2], [4, 3, 2, 1, 3, 4], [4, 3, 2, 2, 1, 4], [4, 3, 2, 4, 1, 2], [4, 3, 3, 3, 1, 2], [4, 3, 3, 3, 1, 4]]]\n"
     ]
    }
   ],
   "source": [
    "print(bads)"
   ]
  },
  {
   "cell_type": "code",
   "execution_count": null,
   "id": "f7bf4c97",
   "metadata": {},
   "outputs": [],
   "source": []
  }
 ],
 "metadata": {
  "kernelspec": {
   "display_name": "SageMath 9.5",
   "language": "sage",
   "name": "sagemath"
  },
  "language_info": {
   "codemirror_mode": {
    "name": "ipython",
    "version": 3
   },
   "file_extension": ".py",
   "mimetype": "text/x-python",
   "name": "python",
   "nbconvert_exporter": "python",
   "pygments_lexer": "ipython3",
   "version": "3.10.12"
  }
 },
 "nbformat": 4,
 "nbformat_minor": 5
}
